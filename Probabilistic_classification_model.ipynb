{
 "cells": [
  {
   "cell_type": "markdown",
   "metadata": {},
   "source": [
    "## A. Data Preparation (1 points)\n",
    "\n",
    "Please identify or prepare a text classification dataset. You can either: \n",
    "+ Find and download an **existing dataset**, OR\n",
    "+ **Create a dataset** on your own\n",
    "\n",
    "Some of the websites to search for a dataset: \n",
    "+ https://www.kaggle.com/datasets\n",
    "+ https://archive.ics.uci.edu/ml/datasets.php\n",
    "+ https://vincentarelbundock.github.io/Rdatasets/datasets.html\n",
    "\n",
    "Specific **requirements** of your dataset: \n",
    "1. [ ] It has to have **text** data, e.g. abstracts, news reports. \n",
    "2. [ ] It has to have a **class** attribute, e.g. with at least **two** categories or labels.\n",
    "3. [ ] It has to have at least: \n",
    "    + If it is an **existing dataset, 300+** data instances total and **100+** in each class, **OR**\n",
    "    + If you **create** the dataset, **30+** data instances total and **10+** in each class. \n",
    "4. [ ] Please **avoid** any dataset already used in **existing** exercises or assignments in this class. \n",
    "\n",
    "Please do: \n",
    "+ [ ] Include a **link** to your data or **submit** your data. \n",
    "+ [ ] Include a **brief description** of your data, attributes, and instances. \n",
    "+ [ ] Discuss the classification **task** on the data and **objectives**. \n"
   ]
  },
  {
   "cell_type": "markdown",
   "metadata": {},
   "source": [
    "## brief description of Data:\n",
    "\n",
    "The data consists of a tweet which is text data which has two classes[target] whether it is a real disaster or not disaster. Along with the text we have location and keyword.\n",
    "\n",
    "data attributes used for classification:\n",
    "\n",
    "Text: it contains the text of tweet.<br>\n",
    "Target: The target attribute consists of two classes disaster/ not disaster.\n",
    "\n",
    "<b>Classification task:</b>\n",
    "\n",
    "predicting whether a given tweet is about a real disaster or not a disaster. we have applied various classification/linear techniques and probability measures for the determining the classification task.\n"
   ]
  },
  {
   "cell_type": "code",
   "execution_count": 207,
   "metadata": {},
   "outputs": [],
   "source": [
    "%matplotlib inline\n",
    "import math\n",
    "import matplotlib.pyplot as plt\n",
    "from matplotlib import animation, rc\n",
    "import numpy as np\n",
    "import pandas as pd\n",
    "import seaborn as sns\n",
    "from numpy import linalg\n",
    "from scipy import stats\n",
    "from IPython.display import HTML, display\n",
    "\n",
    "plt.rcdefaults()"
   ]
  },
  {
   "cell_type": "code",
   "execution_count": 208,
   "metadata": {},
   "outputs": [
    {
     "data": {
      "text/html": [
       "<div>\n",
       "<style scoped>\n",
       "    .dataframe tbody tr th:only-of-type {\n",
       "        vertical-align: middle;\n",
       "    }\n",
       "\n",
       "    .dataframe tbody tr th {\n",
       "        vertical-align: top;\n",
       "    }\n",
       "\n",
       "    .dataframe thead th {\n",
       "        text-align: right;\n",
       "    }\n",
       "</style>\n",
       "<table border=\"1\" class=\"dataframe\">\n",
       "  <thead>\n",
       "    <tr style=\"text-align: right;\">\n",
       "      <th></th>\n",
       "      <th>text</th>\n",
       "      <th>target</th>\n",
       "    </tr>\n",
       "  </thead>\n",
       "  <tbody>\n",
       "    <tr>\n",
       "      <th>0</th>\n",
       "      <td>Our Deeds are the Reason of this #earthquake M...</td>\n",
       "      <td>1</td>\n",
       "    </tr>\n",
       "    <tr>\n",
       "      <th>1</th>\n",
       "      <td>Forest fire near La Ronge Sask. Canada</td>\n",
       "      <td>1</td>\n",
       "    </tr>\n",
       "    <tr>\n",
       "      <th>2</th>\n",
       "      <td>All residents asked to 'shelter in place' are ...</td>\n",
       "      <td>1</td>\n",
       "    </tr>\n",
       "    <tr>\n",
       "      <th>3</th>\n",
       "      <td>13,000 people receive #wildfires evacuation or...</td>\n",
       "      <td>1</td>\n",
       "    </tr>\n",
       "    <tr>\n",
       "      <th>4</th>\n",
       "      <td>Just got sent this photo from Ruby #Alaska as ...</td>\n",
       "      <td>1</td>\n",
       "    </tr>\n",
       "  </tbody>\n",
       "</table>\n",
       "</div>"
      ],
      "text/plain": [
       "                                                text  target\n",
       "0  Our Deeds are the Reason of this #earthquake M...       1\n",
       "1             Forest fire near La Ronge Sask. Canada       1\n",
       "2  All residents asked to 'shelter in place' are ...       1\n",
       "3  13,000 people receive #wildfires evacuation or...       1\n",
       "4  Just got sent this photo from Ruby #Alaska as ...       1"
      ]
     },
     "execution_count": 208,
     "metadata": {},
     "output_type": "execute_result"
    }
   ],
   "source": [
    "df = pd.read_csv(\"tweet_disaster_not_disaster.csv\")\n",
    "df = df[['text','target']]\n",
    "df.head()"
   ]
  },
  {
   "cell_type": "code",
   "execution_count": 209,
   "metadata": {},
   "outputs": [
    {
     "data": {
      "text/html": [
       "<div>\n",
       "<style scoped>\n",
       "    .dataframe tbody tr th:only-of-type {\n",
       "        vertical-align: middle;\n",
       "    }\n",
       "\n",
       "    .dataframe tbody tr th {\n",
       "        vertical-align: top;\n",
       "    }\n",
       "\n",
       "    .dataframe thead th {\n",
       "        text-align: right;\n",
       "    }\n",
       "</style>\n",
       "<table border=\"1\" class=\"dataframe\">\n",
       "  <thead>\n",
       "    <tr style=\"text-align: right;\">\n",
       "      <th></th>\n",
       "      <th>text</th>\n",
       "      <th>target</th>\n",
       "    </tr>\n",
       "  </thead>\n",
       "  <tbody>\n",
       "    <tr>\n",
       "      <th>0</th>\n",
       "      <td>Our Deeds are the Reason of this #earthquake M...</td>\n",
       "      <td>disaster</td>\n",
       "    </tr>\n",
       "    <tr>\n",
       "      <th>1</th>\n",
       "      <td>Forest fire near La Ronge Sask. Canada</td>\n",
       "      <td>disaster</td>\n",
       "    </tr>\n",
       "    <tr>\n",
       "      <th>2</th>\n",
       "      <td>All residents asked to 'shelter in place' are ...</td>\n",
       "      <td>disaster</td>\n",
       "    </tr>\n",
       "    <tr>\n",
       "      <th>3</th>\n",
       "      <td>13,000 people receive #wildfires evacuation or...</td>\n",
       "      <td>disaster</td>\n",
       "    </tr>\n",
       "    <tr>\n",
       "      <th>4</th>\n",
       "      <td>Just got sent this photo from Ruby #Alaska as ...</td>\n",
       "      <td>disaster</td>\n",
       "    </tr>\n",
       "  </tbody>\n",
       "</table>\n",
       "</div>"
      ],
      "text/plain": [
       "                                                text    target\n",
       "0  Our Deeds are the Reason of this #earthquake M...  disaster\n",
       "1             Forest fire near La Ronge Sask. Canada  disaster\n",
       "2  All residents asked to 'shelter in place' are ...  disaster\n",
       "3  13,000 people receive #wildfires evacuation or...  disaster\n",
       "4  Just got sent this photo from Ruby #Alaska as ...  disaster"
      ]
     },
     "execution_count": 209,
     "metadata": {},
     "output_type": "execute_result"
    }
   ],
   "source": [
    "df['target'][df['target'] == 1 ] = 'disaster'\n",
    "df['target'][df['target'] == 0 ] = 'not_disaster'\n",
    "df[['text','target']].head()"
   ]
  },
  {
   "cell_type": "markdown",
   "metadata": {},
   "source": [
    "## B. Probabilities and Zipf (3 points)\n",
    "\n",
    "### B.1. Class Distributions and Probabilities (0.5 point)\n",
    "\n",
    "Find out the number of instances in each class $c$ and compute it's probability $p(c)$. Compile a table like this (example): \n",
    "\n",
    "|   Class $c$    |  Instances $n_c$  |   Probability $p(c)$     |\n",
    "|----------------|-------------------|------------------------   |\n",
    "| disaster           |    3271            | $\\frac{3271}{7613} = 0.4296$  |\n",
    "| not_disaster          |    4342           | $\\frac{4342}{7613} = 0.5703$  |"
   ]
  },
  {
   "cell_type": "code",
   "execution_count": 210,
   "metadata": {},
   "outputs": [
    {
     "data": {
      "text/plain": [
       "7613"
      ]
     },
     "execution_count": 210,
     "metadata": {},
     "output_type": "execute_result"
    }
   ],
   "source": [
    "len(df['target'])"
   ]
  },
  {
   "cell_type": "code",
   "execution_count": 211,
   "metadata": {},
   "outputs": [
    {
     "name": "stdout",
     "output_type": "stream",
     "text": [
      "number of Classes: ['disaster' 'not_disaster']\n",
      " \n",
      "number of instances of each class: not_disaster    4342\n",
      "disaster        3271\n",
      "Name: target, dtype: int64\n",
      " \n",
      "probability of class disaster is: 0.4296597924602653\n",
      " \n",
      "probability of class not_disaster is: 0.5703402075397347\n"
     ]
    }
   ],
   "source": [
    "print(\"number of Classes:\",df['target'].unique())\n",
    "print(' ')\n",
    "print(\"number of instances of each class:\", df['target'].value_counts())\n",
    "print(' ')\n",
    "print(\"probability of class disaster is:\", (len(df[df['target'] == 'disaster'])/ len(df['target'])))\n",
    "print(' ')\n",
    "print(\"probability of class not_disaster is:\", (len(df[df['target'] == 'not_disaster'])/ len(df['target'])))"
   ]
  },
  {
   "cell_type": "markdown",
   "metadata": {},
   "source": [
    "### B.2. Term Probabilities and Zipf's Law (2.5 points)\n",
    "\n",
    "Conduct analysis in the following steps to obtain the term probability pattern in your text data. You can follow the example in [Probability and Linearity in Data](../demo/data_prob_linear.html) to use ```CountVectorizer``` from ```sklearn.feature_extraction.text```. "
   ]
  },
  {
   "cell_type": "markdown",
   "metadata": {},
   "source": [
    "#### B.2.1. Rank, Frequency, and Probability\n",
    "\n",
    "Rank terms by frequency and show the top five with probabilities (example): \n",
    "\n",
    "|      |t       |$k_t$ |$f_t$| $p_t$ |\n",
    "|------|--------|------|-----|-------|\n",
    "|0     |co     |1     |4740 | 0.040179  |\n",
    "|1     |http     |2     |4309 | 0.036526  |\n",
    "|2     |the     |3     |3277 | 0.027778  |\n",
    "|3     |in     |4     |1986  |  0.016835 |\n",
    "|4     |to      |5     |1949  | 0.016521  |\n"
   ]
  },
  {
   "cell_type": "code",
   "execution_count": 212,
   "metadata": {},
   "outputs": [],
   "source": [
    "from sklearn.feature_extraction.text import CountVectorizer\n",
    "\n",
    "# instantiate a count vectorizer\n",
    "vect = CountVectorizer(analyzer=\"word\")\n",
    "# obtain vocabulary dictionary and return doc-term matrix\n",
    "X = vect.fit_transform(df.text) \n",
    "# get the identified terms\n",
    "terms = vect.get_feature_names()\n",
    "# sum terms' frequencies in the entire collection\n",
    "freqs = X.toarray().sum(axis=0)\n",
    "terms = np.array(terms)\n",
    "freqs = np.array(freqs)\n",
    "\n",
    "# organize the tersm and frequencies in t and f columns\n",
    "tfs = pd.DataFrame({'t':terms, 'f':freqs}, columns=['t','f'])"
   ]
  },
  {
   "cell_type": "code",
   "execution_count": 213,
   "metadata": {},
   "outputs": [
    {
     "data": {
      "text/html": [
       "<div>\n",
       "<style scoped>\n",
       "    .dataframe tbody tr th:only-of-type {\n",
       "        vertical-align: middle;\n",
       "    }\n",
       "\n",
       "    .dataframe tbody tr th {\n",
       "        vertical-align: top;\n",
       "    }\n",
       "\n",
       "    .dataframe thead th {\n",
       "        text-align: right;\n",
       "    }\n",
       "</style>\n",
       "<table border=\"1\" class=\"dataframe\">\n",
       "  <thead>\n",
       "    <tr style=\"text-align: right;\">\n",
       "      <th></th>\n",
       "      <th>t</th>\n",
       "      <th>f</th>\n",
       "    </tr>\n",
       "  </thead>\n",
       "  <tbody>\n",
       "    <tr>\n",
       "      <th>0</th>\n",
       "      <td>co</td>\n",
       "      <td>4740</td>\n",
       "    </tr>\n",
       "    <tr>\n",
       "      <th>1</th>\n",
       "      <td>http</td>\n",
       "      <td>4309</td>\n",
       "    </tr>\n",
       "    <tr>\n",
       "      <th>2</th>\n",
       "      <td>the</td>\n",
       "      <td>3277</td>\n",
       "    </tr>\n",
       "    <tr>\n",
       "      <th>3</th>\n",
       "      <td>in</td>\n",
       "      <td>1986</td>\n",
       "    </tr>\n",
       "    <tr>\n",
       "      <th>4</th>\n",
       "      <td>to</td>\n",
       "      <td>1949</td>\n",
       "    </tr>\n",
       "  </tbody>\n",
       "</table>\n",
       "</div>"
      ],
      "text/plain": [
       "      t     f\n",
       "0    co  4740\n",
       "1  http  4309\n",
       "2   the  3277\n",
       "3    in  1986\n",
       "4    to  1949"
      ]
     },
     "execution_count": 213,
     "metadata": {},
     "output_type": "execute_result"
    }
   ],
   "source": [
    "tfs = tfs.sort_values(by=['f'], ascending=False)\n",
    "tfs = tfs.reset_index(drop=True)\n",
    "tfs.head()"
   ]
  },
  {
   "cell_type": "code",
   "execution_count": 214,
   "metadata": {},
   "outputs": [
    {
     "data": {
      "text/html": [
       "<div>\n",
       "<style scoped>\n",
       "    .dataframe tbody tr th:only-of-type {\n",
       "        vertical-align: middle;\n",
       "    }\n",
       "\n",
       "    .dataframe tbody tr th {\n",
       "        vertical-align: top;\n",
       "    }\n",
       "\n",
       "    .dataframe thead th {\n",
       "        text-align: right;\n",
       "    }\n",
       "</style>\n",
       "<table border=\"1\" class=\"dataframe\">\n",
       "  <thead>\n",
       "    <tr style=\"text-align: right;\">\n",
       "      <th></th>\n",
       "      <th>t</th>\n",
       "      <th>k</th>\n",
       "      <th>f</th>\n",
       "      <th>p</th>\n",
       "    </tr>\n",
       "  </thead>\n",
       "  <tbody>\n",
       "    <tr>\n",
       "      <th>0</th>\n",
       "      <td>co</td>\n",
       "      <td>1</td>\n",
       "      <td>4740</td>\n",
       "      <td>0.040179</td>\n",
       "    </tr>\n",
       "    <tr>\n",
       "      <th>1</th>\n",
       "      <td>http</td>\n",
       "      <td>2</td>\n",
       "      <td>4309</td>\n",
       "      <td>0.036526</td>\n",
       "    </tr>\n",
       "    <tr>\n",
       "      <th>2</th>\n",
       "      <td>the</td>\n",
       "      <td>3</td>\n",
       "      <td>3277</td>\n",
       "      <td>0.027778</td>\n",
       "    </tr>\n",
       "    <tr>\n",
       "      <th>3</th>\n",
       "      <td>in</td>\n",
       "      <td>4</td>\n",
       "      <td>1986</td>\n",
       "      <td>0.016835</td>\n",
       "    </tr>\n",
       "    <tr>\n",
       "      <th>4</th>\n",
       "      <td>to</td>\n",
       "      <td>5</td>\n",
       "      <td>1949</td>\n",
       "      <td>0.016521</td>\n",
       "    </tr>\n",
       "  </tbody>\n",
       "</table>\n",
       "</div>"
      ],
      "text/plain": [
       "      t  k     f         p\n",
       "0    co  1  4740  0.040179\n",
       "1  http  2  4309  0.036526\n",
       "2   the  3  3277  0.027778\n",
       "3    in  4  1986  0.016835\n",
       "4    to  5  1949  0.016521"
      ]
     },
     "execution_count": 214,
     "metadata": {},
     "output_type": "execute_result"
    }
   ],
   "source": [
    "tfs['k'] = tfs.index + 1\n",
    "ttf = tfs['f'].sum()\n",
    "tfs['p'] = tfs['f'] / ttf\n",
    "tfs[['t','k','f','p']].head()"
   ]
  },
  {
   "cell_type": "markdown",
   "metadata": {},
   "source": [
    "#### B.2.2. Probability vs. Rank Plot\n",
    "\n",
    "Produce a probability $p_t$ vs. $k_t$ plot on **log-log** coordinates. "
   ]
  },
  {
   "cell_type": "code",
   "execution_count": 215,
   "metadata": {},
   "outputs": [
    {
     "data": {
      "image/png": "[encoded data removed]",
      "text/plain": [
       "<Figure size 640x480 with 1 Axes>"
      ]
     },
     "metadata": {},
     "output_type": "display_data"
    }
   ],
   "source": [
    "plt.loglog(tfs['k'], tfs['p'])\n",
    "plt.xlabel('Rank $k_t$')\n",
    "plt.ylabel('Probability $p_t$')\n",
    "plt.show()"
   ]
  },
  {
   "cell_type": "markdown",
   "metadata": {},
   "source": [
    "#### B.2.3. Regression line \n",
    "\n",
    "Use linear regression to fit the $log(p_t) \\sim log(k_t)$ relation: \n",
    "1. Identify the **coefficient** value from the regression, e.g. a value like $-1.2$ means $p_t \\propto \\frac{1}{k_t^{1.2}}$. \n",
    "2. Plot the regression line on the $p_t$ vs. $k_t$ plot. \n",
    "3. Do your data follow Zipf's law? Discuss the visual pattern, the fitted coefficient, and the regression line. "
   ]
  },
  {
   "cell_type": "code",
   "execution_count": 216,
   "metadata": {},
   "outputs": [
    {
     "data": {
      "image/png": "[encoded data removed]",
      "text/plain": [
       "<Figure size 640x480 with 1 Axes>"
      ]
     },
     "metadata": {},
     "output_type": "display_data"
    }
   ],
   "source": [
    "from sklearn.linear_model import LinearRegression\n",
    "\n",
    "# log transformation of k and p values\n",
    "x = tfs['k'].values.reshape(-1,1)\n",
    "xlog = np.log(x)\n",
    "y = tfs['p'].values.reshape(-1,1)\n",
    "ylog = np.log(y)\n",
    "\n",
    "# perform linear regression on log values\n",
    "lm = LinearRegression()\n",
    "lm.fit(xlog,ylog)\n",
    "yplog = lm.predict(xlog)\n",
    "\n",
    "# plot the fitted (predicted) line \n",
    "# along with actual k_t and p_t data\n",
    "plt.loglog(tfs['k'], tfs['p'], label=\"Observed Data\")\n",
    "plt.loglog(x, np.exp(yplog), \n",
    "           label=\"$p_t = k_t^{\" + \"{:.2f}\".format(lm.coef_[0][0]) + \"}$\")\n",
    "plt.xlabel('Rank $k_t$')\n",
    "plt.ylabel('Probability $p_t$')\n",
    "plt.legend()\n",
    "plt.show()"
   ]
  },
  {
   "cell_type": "markdown",
   "metadata": {},
   "source": [
    "<b>coefficient value:</b><br>\n",
    "The coefficient value form the regression is obtained as -0.93 which is very close to -1. the coefficient value is for the above graph is represented as below.\n",
    "\n",
    "\\begin{eqnarray} \n",
    "    p_t & = & k_t^{-0.93} \\\\\n",
    "    & = & \\frac{1}{k_t^{0.93}}\n",
    "\\end{eqnarray}\n",
    "\n",
    "$p_t = \\frac{1}{k_t}$ as the Zipf's law suggests (as per zipf's law the coefficient should be exactly -1).\n",
    "\n",
    "\n",
    "<b>Zipf's law:</b><br>\n",
    "Zipf's law, states that the probability of an observation is inversely proportional to its rank, has been observed in many domains. Zipf’s law states that when regressing the log(rank) on the log(probability), the coefficient is -1. In our case it is -0.93 which shows that almost approximately nearer to -1 so it shows linear relationship between the log(Rank) and the log(probability).\n",
    "\n",
    "<b>visual pattern:</b><br>\n",
    "The above visual representation describes about the log-log coordinate relationship between probability of the term(y-axis) and rank of the term(x-axis). First, it is approximately linear on a log-log plot, meaning that the probability disctribution of the word with respective to the rank of the word frequency is approximately almost a linear.\n",
    "\n",
    "<b>Fitted coefficient and Regression line:</b><br>\n",
    "the coefficient value for the above log-log graph is -0.93. The word probabilities against the rank of the words follows a inverse linear relation and are almost similarly aligned aong the regression line with slight disturbances.\n"
   ]
  },
  {
   "cell_type": "markdown",
   "metadata": {},
   "source": [
    "\n",
    "## C. Text Vectorization (2 points)\n",
    "\n",
    "### C.1. Training and Test Data\n",
    "\n",
    "Split your data into $80\\%$ training and $20\\%$ test data. "
   ]
  },
  {
   "cell_type": "code",
   "execution_count": 217,
   "metadata": {},
   "outputs": [],
   "source": [
    "# generate random true (80% chance) or false values\n",
    "train_index = np.random.rand(len(df)) < 0.8\n",
    "# use the above list to take the training (true values)\n",
    "train = df[train_index]\n",
    "# the opposite (rest) is for testing\n",
    "test = df[~train_index]"
   ]
  },
  {
   "cell_type": "code",
   "execution_count": 154,
   "metadata": {},
   "outputs": [
    {
     "data": {
      "text/html": [
       "<div>\n",
       "<style scoped>\n",
       "    .dataframe tbody tr th:only-of-type {\n",
       "        vertical-align: middle;\n",
       "    }\n",
       "\n",
       "    .dataframe tbody tr th {\n",
       "        vertical-align: top;\n",
       "    }\n",
       "\n",
       "    .dataframe thead th {\n",
       "        text-align: right;\n",
       "    }\n",
       "</style>\n",
       "<table border=\"1\" class=\"dataframe\">\n",
       "  <thead>\n",
       "    <tr style=\"text-align: right;\">\n",
       "      <th></th>\n",
       "      <th>text</th>\n",
       "      <th>target</th>\n",
       "    </tr>\n",
       "  </thead>\n",
       "  <tbody>\n",
       "    <tr>\n",
       "      <th>0</th>\n",
       "      <td>Our Deeds are the Reason of this #earthquake M...</td>\n",
       "      <td>disaster</td>\n",
       "    </tr>\n",
       "    <tr>\n",
       "      <th>2</th>\n",
       "      <td>All residents asked to 'shelter in place' are ...</td>\n",
       "      <td>disaster</td>\n",
       "    </tr>\n",
       "    <tr>\n",
       "      <th>3</th>\n",
       "      <td>13,000 people receive #wildfires evacuation or...</td>\n",
       "      <td>disaster</td>\n",
       "    </tr>\n",
       "    <tr>\n",
       "      <th>4</th>\n",
       "      <td>Just got sent this photo from Ruby #Alaska as ...</td>\n",
       "      <td>disaster</td>\n",
       "    </tr>\n",
       "    <tr>\n",
       "      <th>5</th>\n",
       "      <td>#RockyFire Update =&gt; California Hwy. 20 closed...</td>\n",
       "      <td>disaster</td>\n",
       "    </tr>\n",
       "  </tbody>\n",
       "</table>\n",
       "</div>"
      ],
      "text/plain": [
       "                                                text    target\n",
       "0  Our Deeds are the Reason of this #earthquake M...  disaster\n",
       "2  All residents asked to 'shelter in place' are ...  disaster\n",
       "3  13,000 people receive #wildfires evacuation or...  disaster\n",
       "4  Just got sent this photo from Ruby #Alaska as ...  disaster\n",
       "5  #RockyFire Update => California Hwy. 20 closed...  disaster"
      ]
     },
     "execution_count": 154,
     "metadata": {},
     "output_type": "execute_result"
    }
   ],
   "source": [
    "train.head()"
   ]
  },
  {
   "cell_type": "code",
   "execution_count": 218,
   "metadata": {},
   "outputs": [
    {
     "name": "stdout",
     "output_type": "stream",
     "text": [
      "p(disaster) = 0.432\n"
     ]
    }
   ],
   "source": [
    "# get the total number of instances\n",
    "n = train.shape[0]\n",
    "# get the total number of hams\n",
    "counts = train.groupby(\"target\")[\"target\"].value_counts()\n",
    "disaster = counts[0]\n",
    "# compute probability\n",
    "p_disaster = disaster / n\n",
    "print(\"p(disaster) = {:.3f}\".format(p_disaster))"
   ]
  },
  {
   "cell_type": "code",
   "execution_count": 156,
   "metadata": {},
   "outputs": [
    {
     "name": "stdout",
     "output_type": "stream",
     "text": [
      "p(not_disaster) = 0.573\n"
     ]
    }
   ],
   "source": [
    "# get the total number of spams\n",
    "not_disaster = counts[1]\n",
    "# compute probability\n",
    "p_not_disaster = not_disaster / n\n",
    "print(\"p(not_disaster) = {:.3f}\".format(p_not_disaster))"
   ]
  },
  {
   "cell_type": "markdown",
   "metadata": {},
   "source": [
    "\n",
    "### C.2. Text Vectorization\n",
    "\n",
    "Use the ```CountVectorizer``` to: \n",
    "1. [ ] Vectorize (fit) your **training** data, based on the ```text``` field. \n",
    "2. [ ] Your vectorizer should now have a set of **features** (words) from the training data \n",
    "3. [ ] Transform your **test** data (text field), with the same vectorizer. \n"
   ]
  },
  {
   "cell_type": "code",
   "execution_count": 219,
   "metadata": {},
   "outputs": [],
   "source": [
    "vect = CountVectorizer(analyzer=\"word\")\n",
    "X_train = vect.fit_transform(train.text)"
   ]
  },
  {
   "cell_type": "code",
   "execution_count": 220,
   "metadata": {},
   "outputs": [],
   "source": [
    "X_test = vect.transform(test.text)"
   ]
  },
  {
   "cell_type": "code",
   "execution_count": 221,
   "metadata": {},
   "outputs": [
    {
     "data": {
      "text/plain": [
       "(2640, 18539)"
      ]
     },
     "execution_count": 221,
     "metadata": {},
     "output_type": "execute_result"
    }
   ],
   "source": [
    "disaster_index = train['target']=='disaster'\n",
    "disaster = train[disaster_index]\n",
    "not_disaster = train[~disaster_index]\n",
    "X_disaster = vect.transform(disaster.text)\n",
    "X_not_disaster = vect.transform(not_disaster.text)\n",
    "X_disaster.shape"
   ]
  },
  {
   "cell_type": "markdown",
   "metadata": {},
   "source": [
    "### C.3. Terms and Conditional Probabilities\n",
    "\n",
    "**Think** about two terms (words): \n",
    "1. [ ] One term (word) $t_1$ that is relevant to one class $c_1$, e.g. ```prize``` for a **spam** class for spam classification. \n",
    "2. [ ] A second term (word) $t_2$ that is relevant to another class $c_2$. \n",
    "\n",
    "Identify their conditional probabilities: \n",
    "\n",
    "\\begin{eqnarray}\n",
    "p(calamity|disaster) & = & 0.0000710 \\\\\n",
    "p(calamity|not disaster) & = & 0.0000191 \\\\\n",
    "p(embrace|disaster) & = & 0.0000704 \\\\\n",
    "p(embrace|not dsaster) & = & 0.0000237\\\\\n",
    "\\end{eqnarray}\n",
    "\n",
    "Discuss and explain: \n",
    "1. [ ] What do these probabilities mean? \n",
    "2. [ ] Are the above probability values reasonable (sensible)? Why or why not? \n",
    "3. [ ] Do you think they will be helpful in the classification task?"
   ]
  },
  {
   "cell_type": "code",
   "execution_count": 222,
   "metadata": {},
   "outputs": [
    {
     "name": "stdout",
     "output_type": "stream",
     "text": [
      "The 3226th term is: calamity\n"
     ]
    }
   ],
   "source": [
    "terms = vect.get_feature_names()\n",
    "t1 = \"calamity\"\n",
    "i = terms.index(t1)\n",
    "print(\"The {:d}th term is: {:s}\".format(i, t1))"
   ]
  },
  {
   "cell_type": "code",
   "execution_count": 223,
   "metadata": {},
   "outputs": [
    {
     "name": "stdout",
     "output_type": "stream",
     "text": [
      "p(calamity|disaster) = 0.0000700, smoothed to 0.0000933\n"
     ]
    }
   ],
   "source": [
    "disasterf = X_disaster.toarray().sum(axis=0)\n",
    "disasterttf = disasterf.sum()\n",
    "f = disasterf[i]\n",
    "p = f / disasterttf\n",
    "ps = (f+1)/(disasterttf+2)\n",
    "print(\"p({:s}|disaster) = {:.7f}, smoothed to {:.7f}\".format(t1, p, ps))"
   ]
  },
  {
   "cell_type": "code",
   "execution_count": 224,
   "metadata": {},
   "outputs": [
    {
     "name": "stdout",
     "output_type": "stream",
     "text": [
      "p(calamity|not_disaster) = 0.0000000, smoothed to 0.0000193\n"
     ]
    }
   ],
   "source": [
    "not_disasterf = X_not_disaster.toarray().sum(axis=0)\n",
    "not_disasterttf = not_disasterf.sum()\n",
    "f = not_disasterf[i]\n",
    "p = f / not_disasterttf\n",
    "ps = (f+1)/(not_disasterttf+2)\n",
    "print(\"p({:s}|not_disaster) = {:.7f}, smoothed to {:.7f}\".format(t1, p, ps))"
   ]
  },
  {
   "cell_type": "code",
   "execution_count": 169,
   "metadata": {},
   "outputs": [
    {
     "name": "stdout",
     "output_type": "stream",
     "text": [
      "The 5682th term is: embrace\n"
     ]
    }
   ],
   "source": [
    "terms = vect.get_feature_names()\n",
    "t2 = \"embrace\"\n",
    "i = terms.index(t2)\n",
    "print(\"The {:d}th term is: {:s}\".format(i, t2))"
   ]
  },
  {
   "cell_type": "code",
   "execution_count": 225,
   "metadata": {},
   "outputs": [
    {
     "name": "stdout",
     "output_type": "stream",
     "text": [
      "p(embrace|disaster) = 0.0000700, smoothed to 0.0000933\n"
     ]
    }
   ],
   "source": [
    "disasterf = X_disaster.toarray().sum(axis=0)\n",
    "disasterttf = disasterf.sum()\n",
    "f = disasterf[i]\n",
    "p = f / disasterttf\n",
    "ps = (f+1)/(disasterttf+2)\n",
    "print(\"p({:s}|disaster) = {:.7f}, smoothed to {:.7f}\".format(t2, p, ps))"
   ]
  },
  {
   "cell_type": "code",
   "execution_count": 226,
   "metadata": {},
   "outputs": [
    {
     "name": "stdout",
     "output_type": "stream",
     "text": [
      "p(embrace|not_disaster) = 0.0000000, smoothed to 0.0000193\n"
     ]
    }
   ],
   "source": [
    "not_disasterf = X_not_disaster.toarray().sum(axis=0)\n",
    "not_disasterttf = not_disasterf.sum()\n",
    "f = not_disasterf[i]\n",
    "p = f / not_disasterttf\n",
    "ps = (f+1)/(not_disasterttf+2)\n",
    "print(\"p({:s}|not_disaster) = {:.7f}, smoothed to {:.7f}\".format(t2, p, ps))"
   ]
  },
  {
   "cell_type": "markdown",
   "metadata": {},
   "source": [
    "### Terms and Conditional Probabilities\n",
    "\n",
    "<b>Class1 (disaster): accident</b> <br>\n",
    "p(calamity|disaster) = 0.0000473 and smoothed value: 0.0000710<br>\n",
    "p(calamity|not disaster) = 0.0000000 and smoothed value: 0.0000191 <br>\n",
    "\n",
    "<b>Class2 (not_disaster): bleeding</b> <br>\n",
    "p(embrace|disaster) = 0.0000000 and smoothed value: 0.0000237<br>\n",
    "p(embrace|not_dsaster) = 0.0000191 and smoothed value: 0.0000382</font><br>\n",
    "\n",
    "##### 1. What do these probabilities mean? \n",
    "The above terms shows that the conditional probabilities with respect to the class1 and class2. if we consider one term belongs to the particular class, it shows the likelihood of happening the event with respect to the class. for the given problem we have two different classes with two different terms (one for each class) shows the likelihood of happening the event with respect to their own classes. \n",
    "\n",
    "##### 2. Are the above probability values reasonable (sensible)? Why or why not?\n",
    "\n",
    "For the above given problem the probabilites are sensible and with respect to each class are given as:<br> for the term accident which belogs to disaster(class1) is given as <b>(p(calamity|disaster) = 0.0000473 and smoothed value: 0.0000710) </b> and term accident with repect to not_disaster(class2) is given as <b>p(calamity|not disaster) = 0.0000000 and smoothed value: 0.0000191</b>. which shows the occurence of the term with class1 is 0.0071% and class2 is 0.0019%.\n",
    "\n",
    "for the term bleeding which belogs to not_disaster(class2) is given as <b>(p(embrace|disaster) = 0.0000000 and smoothed value: 0.0000237) </b> and term accident with repect to not_disaster(class2) is given as <b>p(embrace|not_dsaster) = 0.0000191 and smoothed value: 0.0000382</b>. which shows the occurence of the term with class is 0.0023% and class2 is 0.0382%.\n",
    "\n",
    "##### 3. Do you think they will be helpful in the classification task?\n",
    "\n",
    "By looking at the probabilities for each term with respect to class, they help determine the classification task. \n"
   ]
  },
  {
   "cell_type": "markdown",
   "metadata": {},
   "source": [
    "## D. Classification (5 points)\n",
    "\n",
    "### D.1. Probabilistic Naive Bayes Model (2 points)\n",
    "\n",
    "Pick one of the Naive Bayes models we discussed: ```BernoulliNB``` **OR** ```MultinomialNB```, and conduct the following experiments: \n",
    "\n",
    "1. [ ] Pick an **alpha** parameter, build and train (fit) the model using the $80\\%$ training data. \n",
    "2. [ ] Test (predict) the model on the $20\\%$ test data. \n",
    "3. [ ] Evaluate, show the **confusion matrix**. \n",
    "4. [ ] Discuss, for your task and objectives, **which number(s)** in the confusion matrix is most important, that you wish to minimize or maximize? Why? \n",
    "5. [ ] Compute **accuracy**, **kappa**, and a **3rd metric** (do some research in ```sklearn.metrics```) that best evaluates evaluate your objective in the above **\\#4** bullet point. \n",
    "6. [ ] Change **alpha**, train, test, and evaluate again. \n",
    "\n",
    "|  Model                                 |  Accuracy   |  Kappa     |  Recall  |\n",
    "|---------------------------------------- |-------------|------------|--------------|\n",
    "| Bernoulli Naive Bayes $\\alpha_1$ = 0.01 | 0.7894      |    0.5655  |  0.7932      |\n",
    "| Bernoulli Naive Bayes $\\alpha_2$ = 1.0 |  0.7981      |    0.5786  |  0.8153      |\n"
   ]
  },
  {
   "cell_type": "markdown",
   "metadata": {},
   "source": [
    "#### With parameters alpha=0.01, binarize=0.0"
   ]
  },
  {
   "cell_type": "code",
   "execution_count": 227,
   "metadata": {},
   "outputs": [],
   "source": [
    "from sklearn.naive_bayes import BernoulliNB\n",
    "bNB = BernoulliNB(alpha=0.01, binarize=0.0)\n",
    "bNB.fit(X_train, train.target)\n",
    "v1p = bNB.predict(X_test)"
   ]
  },
  {
   "cell_type": "code",
   "execution_count": 228,
   "metadata": {},
   "outputs": [
    {
     "data": {
      "text/plain": [
       "<sklearn.metrics._plot.confusion_matrix.ConfusionMatrixDisplay at 0x1ab80448128>"
      ]
     },
     "metadata": {},
     "output_type": "display_data"
    },
    {
     "data": {
      "image/png": "[encoded data removed]",
      "text/plain": [
       "<Figure size 640x480 with 2 Axes>"
      ]
     },
     "metadata": {},
     "output_type": "display_data"
    }
   ],
   "source": [
    "from sklearn.metrics import confusion_matrix, plot_confusion_matrix\n",
    "confusion_matrix(v1p, test.target)\n",
    "display(plot_confusion_matrix(bNB, X_test, test.target, values_format='d'))"
   ]
  },
  {
   "cell_type": "code",
   "execution_count": 236,
   "metadata": {},
   "outputs": [
    {
     "name": "stdout",
     "output_type": "stream",
     "text": [
      "Accuracy: 0.7801\n",
      "Kappa   : 0.5463\n",
      "recall   : 0.7750\n",
      "precision   : 0.7716\n"
     ]
    }
   ],
   "source": [
    "from sklearn.metrics import accuracy_score, cohen_kappa_score, recall_score, precision_score\n",
    "acc = accuracy_score(v1p, test.target)\n",
    "kappa = cohen_kappa_score(v1p, test.target)\n",
    "recall_average = recall_score(v1p, test.target, average=\"macro\")\n",
    "precision_value = precision_score(v1p, test.target, average=\"macro\")\n",
    "\n",
    "print(\"Accuracy: {:.4f}\".format(acc))\n",
    "print(\"Kappa   : {:.4f}\".format(kappa))\n",
    "print(\"recall   : {:.4f}\".format(recall_average))\n",
    "print(\"precision   : {:.4f}\".format(precision_value))"
   ]
  },
  {
   "cell_type": "markdown",
   "metadata": {},
   "source": [
    "#### With parameters alpha=1.0, binarize=0.0"
   ]
  },
  {
   "cell_type": "code",
   "execution_count": 177,
   "metadata": {},
   "outputs": [],
   "source": [
    "from sklearn.naive_bayes import BernoulliNB\n",
    "bNB = BernoulliNB(alpha=1.0, binarize=0.0)\n",
    "bNB.fit(X_train, train.target)\n",
    "v1p = bNB.predict(X_test)"
   ]
  },
  {
   "cell_type": "code",
   "execution_count": 178,
   "metadata": {},
   "outputs": [
    {
     "data": {
      "text/plain": [
       "<sklearn.metrics._plot.confusion_matrix.ConfusionMatrixDisplay at 0x1abc5bee8d0>"
      ]
     },
     "metadata": {},
     "output_type": "display_data"
    },
    {
     "data": {
      "image/png": "[encoded data removed]",
      "text/plain": [
       "<Figure size 640x480 with 2 Axes>"
      ]
     },
     "metadata": {},
     "output_type": "display_data"
    }
   ],
   "source": [
    "from sklearn.metrics import confusion_matrix, plot_confusion_matrix\n",
    "confusion_matrix(v1p, test.target)\n",
    "display(plot_confusion_matrix(bNB, X_test, test.target, values_format='d'))"
   ]
  },
  {
   "cell_type": "code",
   "execution_count": 179,
   "metadata": {},
   "outputs": [
    {
     "name": "stdout",
     "output_type": "stream",
     "text": [
      "Accuracy: 0.7981\n",
      "Kappa   : 0.5786\n",
      "recall   : 0.8153\n",
      "precision   : 0.7813\n"
     ]
    }
   ],
   "source": [
    "from sklearn.metrics import accuracy_score, cohen_kappa_score, recall_score, precision_score\n",
    "acc = accuracy_score(v1p, test.target)\n",
    "kappa = cohen_kappa_score(v1p, test.target)\n",
    "recall_average = recall_score(v1p, test.target, average=\"macro\")\n",
    "precision_value = precision_score(v1p, test.target, average=\"macro\")\n",
    "\n",
    "print(\"Accuracy: {:.4f}\".format(acc))\n",
    "print(\"Kappa   : {:.4f}\".format(kappa))\n",
    "print(\"recall   : {:.4f}\".format(recall_average))\n",
    "print(\"precision   : {:.4f}\".format(precision_value))"
   ]
  },
  {
   "cell_type": "markdown",
   "metadata": {},
   "source": [
    "## Classification"
   ]
  },
  {
   "cell_type": "markdown",
   "metadata": {},
   "source": [
    "\n",
    "1. Pick an alpha parameter, build and train (fit) the model using the  80%  training data. Test (predict) the model on the  20%  test data.<br>\n",
    "I have chosen BernoulliNB with alpha parameter 0.01 and 1.0 which has the train (fit) data as 80% and test data as 20%.\n",
    "\n",
    "2. Evaluate, show the confusion matrix.<br>\n",
    "I have plotted the confusion matrix as per the model.\n",
    "\n",
    "3. Discuss, for your task and objectives, which number(s) in the confusion matrix is most important, that you wish to minimize or maximize? Why?<br>\n",
    "Based on the classification task is to predict whether the given tweet(text) falls under disaster class or not_disaster class. \n",
    "By looking at the confusion matrix true disaster and ture not_disaster values are important in the prediction of classification task. So it is important to concentrate on maximizing the ture class values. we focus on reducing (minimizing) the false disaster and false not_disaster values to improve the model performance.\n",
    "\n",
    "4. Compute accuracy, kappa, and a 3rd metric (do some research in sklearn.metrics) that best evaluates evaluate your objective in the above #4 bullet point.Change alpha, train, test, and evaluate again.<br>\n",
    "For the above model with training (80%) and testing (20%) we have computed the model accuracy, kappa, recall and precision values. model is evaluated for different alpha values (𝛼 = 0.01 and 1.0) and the scores are tabulated.\n",
    "\n",
    "|  Model                                 |  Accuracy   |  Kappa     |  Recall  |\n",
    "|---------------------------------------- |-------------|------------|--------------|\n",
    "| Bernoulli Naive Bayes $\\alpha_1$ = 0.01 | 0.7894      |    0.5655  |  0.7932      |\n",
    "| Bernoulli Naive Bayes $\\alpha_2$ = 1.0 |  0.7981      |    0.5786  |  0.8153      |\n",
    "\n"
   ]
  },
  {
   "cell_type": "markdown",
   "metadata": {},
   "source": [
    "### D.2. Linear Model (2 points)\n",
    "\n",
    "#### D.2.1. Linearity\n",
    "\n",
    "Remember the two terms $t_1$ and $t_2$ for two classes $c_1$ and $c_2$ you picked earlier? \n",
    "\n",
    "Scatter plot the training data with: \n",
    "\n",
    "1. [ ] $t_1$ and $t_2$ as the $X$ and $Y$ axes. \n",
    "2. [ ] **Color code** data points based on their classes $c_1$ and $c_2$. \n",
    "    + You only need to plot data in the two classes. \n",
    "    + Make sure the two colors are distinguishable. \n",
    "3. [ ] Discuss whether: \n",
    "    + The two classes are (roughly) **separable** on the plot? \n",
    "    + The two classes are **linearly** separable on the plot? \n",
    "    + (Optional) It is possible they are linearly separable in a higher dimensional space with **all term features**? "
   ]
  },
  {
   "cell_type": "markdown",
   "metadata": {},
   "source": [
    "## Linearity\n",
    "\n",
    "1. The two classes are (roughly) separable on the plot?\n",
    "Looking at the data for terms t1 (calamity) and t2 (embrace) belonging to the two classes are roughly separable from each other and the plot is shown below. as per the below visualization we could see that the data poits are scattred and few points are slightly overlapping.\n",
    "\n",
    "2. The two classes are linearly separable on the plot?\n",
    "From the plot below we could see that the classes are linearly separable. and the few classes are overalpping with each other but they are very slight in numbers. \n"
   ]
  },
  {
   "cell_type": "code",
   "execution_count": 205,
   "metadata": {},
   "outputs": [
    {
     "data": {
      "image/png": "[encoded data removed]",
      "text/plain": [
       "<Figure size 640x480 with 1 Axes>"
      ]
     },
     "metadata": {},
     "output_type": "display_data"
    }
   ],
   "source": [
    "# for name, group in groups: \n",
    "plt.plot(X_disaster.toarray()[:,3208], X_disaster.toarray()[:,5682], linestyle='', marker='o', \n",
    "         color=\"red\", ms=6, label=\"disaster\")\n",
    "plt.plot(X_not_disaster.toarray()[:,3208], X_not_disaster.toarray()[:,5682], linestyle='', marker='+', \n",
    "         color=\"blue\", ms=10, label=\"not_disaster\")\n",
    "plt.xlabel(\"clalmity\")\n",
    "plt.ylabel(\"embrace\")\n",
    "plt.legend()\n",
    "plt.show()"
   ]
  },
  {
   "cell_type": "markdown",
   "metadata": {},
   "source": [
    "#### D.2.2. Linear Classification\n",
    "\n",
    "1. [ ] Pick a linear classification model: ```Perceptron``` **OR** ```sklearn.svm.LinearSVC```. \n",
    "2. [ ] Conduct the same experiments outlined in section D.1 (for the Naive Bayes model). \n",
    "3. [ ] Make sure you research the model, pick a **parameter**, and use **two** different values for the parameter to train, test, and evaluate the model. \n",
    "\n",
    "|  Model                      |  Accuracy   |  Kappa     |  Recall     |\n",
    "|---------------------------- |-------------|------------|--------------|\n",
    "| LinearSVC, param1: C=1.0   |  0.7614      |   0.5105    |    0.7601   |\n",
    "| LinearSVC, param2: C=0.1    |  0.7968     |   0.5790    |    0.8048   |\n"
   ]
  },
  {
   "cell_type": "markdown",
   "metadata": {},
   "source": [
    "#### with parameters C=1.0, dual = True, loss = 'hinge'"
   ]
  },
  {
   "cell_type": "code",
   "execution_count": 191,
   "metadata": {},
   "outputs": [],
   "source": [
    "from sklearn.svm import LinearSVC\n",
    "LSVC = LinearSVC(C=1.0, dual = True, loss = 'hinge')\n",
    "LSVC.fit(X_train, train.target)\n",
    "v1p = LSVC.predict(X_test)"
   ]
  },
  {
   "cell_type": "code",
   "execution_count": 192,
   "metadata": {},
   "outputs": [
    {
     "data": {
      "text/plain": [
       "<sklearn.metrics._plot.confusion_matrix.ConfusionMatrixDisplay at 0x1ab8023bbe0>"
      ]
     },
     "metadata": {},
     "output_type": "display_data"
    },
    {
     "data": {
      "image/png": "[encoded data removed]",
      "text/plain": [
       "<Figure size 640x480 with 2 Axes>"
      ]
     },
     "metadata": {},
     "output_type": "display_data"
    }
   ],
   "source": [
    "from sklearn.metrics import confusion_matrix, plot_confusion_matrix\n",
    "confusion_matrix(v1p, test.target)\n",
    "display(plot_confusion_matrix(LSVC, X_test, test.target, values_format='d'))"
   ]
  },
  {
   "cell_type": "code",
   "execution_count": 193,
   "metadata": {},
   "outputs": [
    {
     "name": "stdout",
     "output_type": "stream",
     "text": [
      "Accuracy: 0.7614\n",
      "Kappa   : 0.5105\n",
      "recall   : 0.7601\n",
      "precision   : 0.7526\n"
     ]
    }
   ],
   "source": [
    "acc = accuracy_score(v1p, test.target)\n",
    "kappa = cohen_kappa_score(v1p, test.target)\n",
    "recall_average = recall_score(v1p, test.target, average=\"macro\")\n",
    "precision_value = precision_score(v1p, test.target, average=\"macro\")\n",
    "\n",
    "print(\"Accuracy: {:.4f}\".format(acc))\n",
    "print(\"Kappa   : {:.4f}\".format(kappa))\n",
    "print(\"recall   : {:.4f}\".format(recall_average))\n",
    "print(\"precision   : {:.4f}\".format(precision_value))"
   ]
  },
  {
   "cell_type": "markdown",
   "metadata": {},
   "source": [
    "#### with parameters C=0.1, dual = True, loss = 'hinge'"
   ]
  },
  {
   "cell_type": "code",
   "execution_count": 194,
   "metadata": {},
   "outputs": [],
   "source": [
    "from sklearn.svm import LinearSVC\n",
    "LSVC = LinearSVC(C=0.1, dual = True, loss = 'hinge') #C = 1.0   SVM regularization parameter\n",
    "LSVC.fit(X_train, train.target)\n",
    "v1p = LSVC.predict(X_test)"
   ]
  },
  {
   "cell_type": "code",
   "execution_count": 195,
   "metadata": {},
   "outputs": [
    {
     "data": {
      "text/plain": [
       "<sklearn.metrics._plot.confusion_matrix.ConfusionMatrixDisplay at 0x1ab802d0b00>"
      ]
     },
     "metadata": {},
     "output_type": "display_data"
    },
    {
     "data": {
      "image/png": "[encoded data removed]",
      "text/plain": [
       "<Figure size 640x480 with 2 Axes>"
      ]
     },
     "metadata": {},
     "output_type": "display_data"
    }
   ],
   "source": [
    "from sklearn.metrics import confusion_matrix, plot_confusion_matrix\n",
    "confusion_matrix(v1p, test.target)\n",
    "display(plot_confusion_matrix(LSVC, X_test, test.target, values_format='d'))"
   ]
  },
  {
   "cell_type": "code",
   "execution_count": 196,
   "metadata": {},
   "outputs": [
    {
     "name": "stdout",
     "output_type": "stream",
     "text": [
      "Accuracy: 0.7968\n",
      "Kappa   : 0.5790\n",
      "recall   : 0.8048\n",
      "precision   : 0.7835\n"
     ]
    }
   ],
   "source": [
    "acc = accuracy_score(v1p, test.target)\n",
    "kappa = cohen_kappa_score(v1p, test.target)\n",
    "recall_average = recall_score(v1p, test.target, average=\"macro\")\n",
    "precision_value = precision_score(v1p, test.target, average=\"macro\")\n",
    "\n",
    "print(\"Accuracy: {:.4f}\".format(acc))\n",
    "print(\"Kappa   : {:.4f}\".format(kappa))\n",
    "print(\"recall   : {:.4f}\".format(recall_average))\n",
    "print(\"precision   : {:.4f}\".format(precision_value))"
   ]
  },
  {
   "cell_type": "markdown",
   "metadata": {},
   "source": [
    "\n",
    "### D.3 Non-linear Classification or Alternative (1 points)\n",
    "\n",
    "Pick **one classification model** from the following: \n",
    "+ Non-linear Support Vector Machines (SVM) ```sklearn.svm.SVC```\n",
    "+ Non-linear Multi-layer Perceptron: ```sklearn.neural_network.MLPClassifier```\n",
    "+ Decision Tree: ```sklearn.tree.DecisionTreeClassifier```\n",
    "+ Lazy Learning: ```sklearn.neighbors.KNeighborsClassifier```\n",
    "+ Or any other classification model in ```sklearn```\n",
    "\n",
    "Conduct the **same analysis as in D.2.2.**\n",
    "\n",
    "|  Model                 |  Accuracy   |  Kappa     |  Recall  |\n",
    "|------------------------|-------------|------------|--------------|\n",
    "| DecisionTreeClassifier, param1 max_depth=20  |   0.7193   |  0.4036    |  0.7489     |\n",
    "| DecisionTreeClassifier, param2 max_depth=40  |   0.7400   |   0.4546   |      0.7548 |"
   ]
  },
  {
   "cell_type": "markdown",
   "metadata": {},
   "source": [
    "#### With parameters criterion=\"entropy\", max_depth=20"
   ]
  },
  {
   "cell_type": "code",
   "execution_count": 199,
   "metadata": {},
   "outputs": [],
   "source": [
    "from sklearn.tree import DecisionTreeClassifier\n",
    "tree = DecisionTreeClassifier(criterion=\"entropy\", max_depth=20)\n",
    "tree.fit(X_train, train.target)\n",
    "v1p = tree.predict(X_test)"
   ]
  },
  {
   "cell_type": "code",
   "execution_count": 200,
   "metadata": {},
   "outputs": [
    {
     "data": {
      "text/plain": [
       "<sklearn.metrics._plot.confusion_matrix.ConfusionMatrixDisplay at 0x1ab80563828>"
      ]
     },
     "metadata": {},
     "output_type": "display_data"
    },
    {
     "data": {
      "image/png": "[encoded data removed]",
      "text/plain": [
       "<Figure size 640x480 with 2 Axes>"
      ]
     },
     "metadata": {},
     "output_type": "display_data"
    }
   ],
   "source": [
    "from sklearn.metrics import confusion_matrix, plot_confusion_matrix\n",
    "confusion_matrix(v1p, test.target)\n",
    "display(plot_confusion_matrix(tree, X_test, test.target, values_format='d'))"
   ]
  },
  {
   "cell_type": "code",
   "execution_count": 201,
   "metadata": {},
   "outputs": [
    {
     "name": "stdout",
     "output_type": "stream",
     "text": [
      "Accuracy: 0.7193\n",
      "Kappa   : 0.4036\n",
      "recall   : 0.7489\n",
      "precision   : 0.6928\n"
     ]
    }
   ],
   "source": [
    "acc = accuracy_score(v1p, test.target)\n",
    "kappa = cohen_kappa_score(v1p, test.target)\n",
    "recall_average = recall_score(v1p, test.target, average=\"macro\")\n",
    "precision_value = precision_score(v1p, test.target, average=\"macro\")\n",
    "\n",
    "print(\"Accuracy: {:.4f}\".format(acc))\n",
    "print(\"Kappa   : {:.4f}\".format(kappa))\n",
    "print(\"recall   : {:.4f}\".format(recall_average))\n",
    "print(\"precision   : {:.4f}\".format(precision_value))"
   ]
  },
  {
   "cell_type": "markdown",
   "metadata": {},
   "source": [
    "#### With parameters criterion=\"entropy\", max_depth=20"
   ]
  },
  {
   "cell_type": "code",
   "execution_count": 202,
   "metadata": {},
   "outputs": [],
   "source": [
    "from sklearn.tree import DecisionTreeClassifier\n",
    "tree = DecisionTreeClassifier(criterion=\"entropy\", max_depth=40)\n",
    "tree.fit(X_train, train.target)\n",
    "v1p = tree.predict(X_test)"
   ]
  },
  {
   "cell_type": "code",
   "execution_count": 203,
   "metadata": {},
   "outputs": [
    {
     "data": {
      "text/plain": [
       "<sklearn.metrics._plot.confusion_matrix.ConfusionMatrixDisplay at 0x1ab80286898>"
      ]
     },
     "metadata": {},
     "output_type": "display_data"
    },
    {
     "data": {
      "image/png": "[encoded data removed]",
      "text/plain": [
       "<Figure size 640x480 with 2 Axes>"
      ]
     },
     "metadata": {},
     "output_type": "display_data"
    }
   ],
   "source": [
    "from sklearn.metrics import confusion_matrix, plot_confusion_matrix\n",
    "confusion_matrix(v1p, test.target)\n",
    "display(plot_confusion_matrix(tree, X_test, test.target, values_format='d'))"
   ]
  },
  {
   "cell_type": "code",
   "execution_count": 204,
   "metadata": {},
   "outputs": [
    {
     "name": "stdout",
     "output_type": "stream",
     "text": [
      "Accuracy: 0.7400\n",
      "Kappa   : 0.4546\n",
      "recall   : 0.7548\n",
      "precision   : 0.7199\n"
     ]
    }
   ],
   "source": [
    "acc = accuracy_score(v1p, test.target)\n",
    "kappa = cohen_kappa_score(v1p, test.target)\n",
    "recall_average = recall_score(v1p, test.target, average=\"macro\")\n",
    "precision_value = precision_score(v1p, test.target, average=\"macro\")\n",
    "\n",
    "print(\"Accuracy: {:.4f}\".format(acc))\n",
    "print(\"Kappa   : {:.4f}\".format(kappa))\n",
    "print(\"recall   : {:.4f}\".format(recall_average))\n",
    "print(\"precision   : {:.4f}\".format(precision_value))"
   ]
  },
  {
   "cell_type": "markdown",
   "metadata": {},
   "source": [
    "## Metrics \n",
    "<b>Accuracy</b> measures the fraction of the total sample that is correctly identified.<br>\n",
    "<b>Kappa</b>  kappa values is defined as degree of agreement of nominal assessments made by multiple appraisers. The higher the kappa value, the stronger the degree of agreement.<br>\n",
    "<b>Precision</b> measures that out of all the examples predicted as positive, how many are actually positive.<br>\n",
    "<b>Recall</b> measures that out of all the actual positives, how many examples were correctly classified as positive by the model<br>\n",
    "\n"
   ]
  },
  {
   "cell_type": "markdown",
   "metadata": {},
   "source": [
    "## E. Conclusion (1 point)\n",
    "\n",
    "##### Compare the results in section D. \n",
    "|  Model                                 |  Accuracy   |  Kappa     |  Recall  |\n",
    "|---------------------------------------- |-------------|------------|--------------|\n",
    "| LinearSVC, param1: C=1.0   |  0.7614      |   0.5105    |    0.7601   |\n",
    "| LinearSVC, param2: C=0.1    |  0.7968     |   0.5790    |    0.8048   |\n",
    "| DecisionTreeClassifier, param1 max_depth=20  |   0.7193   |  0.4036    |  0.7489     |\n",
    "| DecisionTreeClassifier, param2 max_depth=40  |   0.7400   |   0.4546   |      0.7548 |\n",
    "\n",
    "For the linear / non-linear classification task the above results shows the models accuracy, kappa and Reall values tabulated as above. By comparing the results for the liner(LinearSVC) and non linear classification task (DecisionTreeClassifier) the linear classification model performes better than non-linear classification.\n",
    "\n",
    "here, LinearSVC model with regularization parameter (C = 1.0 and C = 0.1) gives the accuracy 0.7614 and 0.7968 which is betther than DecisionTreeClassifier with max_depth (20 and 40) gives 0.7193 and 0.74.\n",
    "\n",
    "##### Review your classification task and objectives. \n",
    "\n",
    "As per the data the classification task is to find the whether the given tweet (text) is diasater or not_disaster. Here, the objective is to model the data (text) with different classification / linear techniques to determine the classification task whether it is disaster or not_disaster.\n",
    "\n",
    "##### Which model gives you the best result so far? Why? \n",
    "\n",
    "From the comparision of all the models above the classification model Bernoulli Naive Bayes with Laplace estimator (𝛼 = 1.0) gives the best accuracy (0.7981) results and performs better than all the models. from the confusion matrix it is clear then that with better estimator the false positive and false negative values are minimized which results in the better accuracy of the model.\n",
    "\n",
    "So far out of all the models Bernoulli Naive Bayes gives the best results with classification task.\n",
    "\n",
    "##### Thoughts on future work on the data? \n",
    "\n",
    "As a future work of on the data we can try different vectorization techniques for modelling. we can try different classifictaion, linear or non linear techniques for the classification task and the objectives of the data selected. we can extend the work to deep learning and conduct experiments which can give better results and compare the results with the other classification models.\n",
    "\n",
    "For better performence of the data we can try feeding more data to the models and evaluate the classification tasks.\n"
   ]
  }
 ],
 "metadata": {
  "kernelspec": {
   "display_name": "Python 3",
   "language": "python",
   "name": "python3"
  },
  "language_info": {
   "codemirror_mode": {
    "name": "ipython",
    "version": 3
   },
   "file_extension": ".py",
   "mimetype": "text/x-python",
   "name": "python",
   "nbconvert_exporter": "python",
   "pygments_lexer": "ipython3",
   "version": "3.7.3"
  }
 },
 "nbformat": 4,
 "nbformat_minor": 4
}
